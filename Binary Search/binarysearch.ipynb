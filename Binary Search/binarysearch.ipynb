{
 "cells": [
  {
   "cell_type": "code",
   "execution_count": 7,
   "metadata": {},
   "outputs": [
    {
     "name": "stdout",
     "output_type": "stream",
     "text": [
      "-1\n"
     ]
    }
   ],
   "source": [
    "# binary search \n",
    "# search element in binary usin OlogN\n",
    "arr = [1,2,3,4,5,6]\n",
    "\n",
    "def find(arr, k):\n",
    "    l =0\n",
    "    r = len(arr)-1\n",
    "\n",
    "    while l<=r:\n",
    "\n",
    "        m =   l+(r-l)//2  \n",
    "        # the logic is taking the distance between the 2 elements \n",
    "        # instead of adding and then dividing it by 2 \n",
    "        # if we do addition it may give integer overflow error\n",
    "        #  l=5 r=10  5+(10-5)//2 -> 5+2-> 7\n",
    "        if arr[m]==k:\n",
    "            return m\n",
    "        elif k<arr[m]:\n",
    "            r=m-1\n",
    "        else:\n",
    "            l=m+1\n",
    "    return -1\n",
    "\n",
    "print(find(arr,7))\n",
    "        "
   ]
  },
  {
   "cell_type": "code",
   "execution_count": null,
   "metadata": {},
   "outputs": [],
   "source": [
    "# search a 2d matrix\n"
   ]
  }
 ],
 "metadata": {
  "kernelspec": {
   "display_name": "Python 3",
   "language": "python",
   "name": "python3"
  },
  "language_info": {
   "codemirror_mode": {
    "name": "ipython",
    "version": 3
   },
   "file_extension": ".py",
   "mimetype": "text/x-python",
   "name": "python",
   "nbconvert_exporter": "python",
   "pygments_lexer": "ipython3",
   "version": "3.11.9"
  }
 },
 "nbformat": 4,
 "nbformat_minor": 2
}
