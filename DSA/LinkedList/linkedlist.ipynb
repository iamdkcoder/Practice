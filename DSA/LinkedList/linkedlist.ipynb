{
 "cells": [
  {
   "cell_type": "code",
   "execution_count": null,
   "metadata": {},
   "outputs": [],
   "source": [
    "# Node Structure: A node in a linked list typically consists of two components:\n",
    "\n",
    "# Data: It holds the actual value or data associated with the node.\n",
    "# Next Pointer or Reference : It stores the memory address (reference) of the next node in the sequence."
   ]
  },
  {
   "cell_type": "markdown",
   "metadata": {},
   "source": [
    "Head and Tail: The linked list is accessed through the head node, which points to the first node in the list. The last node in the list points to NULL or nullptr, indicating the end of the list. This node is known as the tail node.\n",
    "\n"
   ]
  },
  {
   "cell_type": "code",
   "execution_count": 2,
   "metadata": {},
   "outputs": [],
   "source": [
    "class Node:\n",
    "    def __init__(self,new_data) -> None:\n",
    "        self.data = new_data\n",
    "        self.next= None\n",
    "    "
   ]
  },
  {
   "cell_type": "code",
   "execution_count": 3,
   "metadata": {},
   "outputs": [
    {
     "name": "stdout",
     "output_type": "stream",
     "text": [
      "1 -> 2 -> 3 -> 4 -> 5 -> None\n"
     ]
    }
   ],
   "source": [
    "class LinkedList:\n",
    "    def __init__(self):\n",
    "        head = None\n",
    "\n",
    "    def array_to_list(self,arr):\n",
    "        if not len(arr):\n",
    "            return None\n",
    "        self.head = Node(arr[0])\n",
    "        temp = self.head\n",
    "        for i in range(1, len(arr)):\n",
    "            tempNode = Node(arr[i])\n",
    "            temp.next = tempNode\n",
    "            temp = tempNode\n",
    "        return self.head\n",
    "    \n",
    "    def display(self):\n",
    "        tempHead = self.head\n",
    "        while tempHead:\n",
    "            print(tempHead.data,end=\" -> \")\n",
    "            tempHead = tempHead.next\n",
    "        print(\"None\")\n",
    "        return None\n",
    "    \n",
    "\n",
    "        \n",
    "arr = [1,2,3,4,5]\n",
    "list = LinkedList()\n",
    "ll = list.array_to_list(arr)\n",
    "list.display()\n"
   ]
  },
  {
   "cell_type": "code",
   "execution_count": 11,
   "metadata": {},
   "outputs": [
    {
     "name": "stdout",
     "output_type": "stream",
     "text": [
      "1 -> 2 -> 3 -> 4 -> 5 -> None\n"
     ]
    }
   ],
   "source": [
    "class Solution:\n",
    "    def rotateRight(self, head  , k: int):\n",
    "        if head==None or k==0:\n",
    "            return head\n",
    "        count_ptr = head\n",
    "        n=1\n",
    "\n",
    "        while count_ptr.next:\n",
    "            count_ptr = count_ptr.next\n",
    "            n+=1\n",
    "        count_ptr.next = head\n",
    "        \n",
    "        first_half = head\n",
    "        k=k%n #  n=5 and k is 6 then eventually it will become k=1 \n",
    "        for i in range(n-k-1):\n",
    "            first_half = first_half.next\n",
    "        \n",
    "        result_head = first_half.next\n",
    "        first_half.next = None\n",
    "\n",
    "        return result_head\n"
   ]
  },
  {
   "cell_type": "code",
   "execution_count": 4,
   "metadata": {},
   "outputs": [],
   "source": [
    "def reverse(head):\n",
    "    # create a previous node,current node and the next_node\n",
    "    prev = None\n",
    "    curr = head\n",
    "    while curr:\n",
    "        next_node =curr.next\n",
    "        curr.next = prev\n",
    "        prev =curr\n",
    "        curr = next_node\n",
    "\n",
    "    head = prev\n",
    "    return head\n"
   ]
  },
  {
   "cell_type": "code",
   "execution_count": 5,
   "metadata": {},
   "outputs": [],
   "source": [
    "reversedlist =  reverse(ll)"
   ]
  },
  {
   "cell_type": "code",
   "execution_count": null,
   "metadata": {},
   "outputs": [],
   "source": []
  }
 ],
 "metadata": {
  "kernelspec": {
   "display_name": "Python 3",
   "language": "python",
   "name": "python3"
  },
  "language_info": {
   "codemirror_mode": {
    "name": "ipython",
    "version": 3
   },
   "file_extension": ".py",
   "mimetype": "text/x-python",
   "name": "python",
   "nbconvert_exporter": "python",
   "pygments_lexer": "ipython3",
   "version": "3.11.9"
  }
 },
 "nbformat": 4,
 "nbformat_minor": 2
}
