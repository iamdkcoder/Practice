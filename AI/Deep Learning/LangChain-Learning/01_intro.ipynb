{
 "cells": [
  {
   "cell_type": "markdown",
   "metadata": {},
   "source": [
    "1. Vin Retrieval Agent ()\n",
    "2. Human in the loop when user types Human\n",
    "3. "
   ]
  },
  {
   "cell_type": "markdown",
   "metadata": {},
   "source": [
    "# Challenges\n",
    "1. Maintaining Chat Sessions\n",
    "2. Data pipeline \n",
    "    - Cleaning and Normalizing Data\n",
    "    - Identifying required data\n",
    "    - Converting Json data to CSV\n",
    "    - Neo4j Schema Modelling\n",
    "    - Neo4j ETL Scripts\n",
    "3. Agents\n",
    "    1. Follow-up Questions to fill the data in profile \n",
    "    2. Human in the loop Agent -> returns a response with a link to connect with agent asks few details about user\n",
    "    3.  Summary Generator to update the prompt dynamically to make AI aware what previously user have discussed\n",
    "    4. VIN Detail Extractor \n",
    "    5. Recommendation based on profile preference\n",
    "\n",
    "4. Structure Output in JSON Format"
   ]
  },
  {
   "cell_type": "markdown",
   "metadata": {},
   "source": [
    "Queries\n",
    "1. what are the expected user prompts when we should execute Vin retrieval agent\n",
    "2. what are the expected user prompt or actions for vin comparison\n"
   ]
  }
 ],
 "metadata": {
  "language_info": {
   "name": "python"
  }
 },
 "nbformat": 4,
 "nbformat_minor": 2
}
