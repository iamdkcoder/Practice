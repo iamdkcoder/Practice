{
 "cells": [
  {
   "cell_type": "markdown",
   "metadata": {},
   "source": [
    "reverse an arry\n",
    "[1,2,3,4,5]"
   ]
  },
  {
   "cell_type": "code",
   "execution_count": 2,
   "metadata": {},
   "outputs": [
    {
     "name": "stdout",
     "output_type": "stream",
     "text": [
      "[5, 4, 3, 2, 1]\n"
     ]
    }
   ],
   "source": [
    "from typing import List\n",
    "\n",
    "def reverse(arr:List[int]) -> List[int]:\n",
    "    \n",
    "    reverse_stack = []\n",
    "    n= len(arr)\n",
    "    for i in range(n):\n",
    "        reverse_stack.append(arr[n-i-1])\n",
    "    return reverse_stack\n",
    "\n",
    "print(reverse([1,2,3,4,5]))"
   ]
  },
  {
   "cell_type": "code",
   "execution_count": 26,
   "metadata": {},
   "outputs": [
    {
     "name": "stdout",
     "output_type": "stream",
     "text": [
      "reversing [1, 2]\n",
      "reversing [1]\n",
      "reversing []\n",
      "[1]\n",
      "[1, 1]\n",
      "[1]\n",
      "[1, 1, 1]\n"
     ]
    }
   ],
   "source": [
    "# using recursion\n",
    "\n",
    "def insert_at_bottom(arr:List[int],top:int):\n",
    "        # arr = [2,1] and top = 3\n",
    "        if len(arr) == 0:\n",
    "            # insert the top element 3 at the bottom of the stack, arr = [3]\n",
    "            arr.append(top)\n",
    "            return\n",
    "        else:\n",
    "            # take out the top element 1, arr = [2]\n",
    "            temp = arr.pop()\n",
    "            # insert the top element 3 at the bottom of the stack, arr = [2]\n",
    "            insert_at_bottom(arr,top)\n",
    "            # arr is now [2,3]\n",
    "            arr.append(temp)\n",
    "            # arr is now [2,3,1]\n",
    "            return\n",
    "\n",
    "def reverse(arr:List[int]) -> List[int]:\n",
    "    if len(arr) == 0:\n",
    "        return \n",
    "    # arr = [1,2,3]\n",
    "    # take out the top element \n",
    "    top= arr.pop() # pop the last element 3, arr = [1,2]\n",
    "    # reverse the rest of the array\n",
    "    print(f'reversing {arr}')\n",
    "    reverse(arr)\n",
    "    # arr becomes [2,1]\n",
    "    \n",
    "    # insert the top element i.e 3 at the bottom of the stack\n",
    "    insert_at_bottom(arr,top)\n",
    "    # arr becomes [3,2,1]\n",
    "    return \n",
    "arr = [1,2,3]\n",
    "reverse(arr)\n",
    "print(arr)\n"
   ]
  },
  {
   "cell_type": "code",
   "execution_count": null,
   "metadata": {},
   "outputs": [],
   "source": []
  }
 ],
 "metadata": {
  "kernelspec": {
   "display_name": ".venv",
   "language": "python",
   "name": "python3"
  },
  "language_info": {
   "codemirror_mode": {
    "name": "ipython",
    "version": 3
   },
   "file_extension": ".py",
   "mimetype": "text/x-python",
   "name": "python",
   "nbconvert_exporter": "python",
   "pygments_lexer": "ipython3",
   "version": "3.13.3"
  }
 },
 "nbformat": 4,
 "nbformat_minor": 2
}
