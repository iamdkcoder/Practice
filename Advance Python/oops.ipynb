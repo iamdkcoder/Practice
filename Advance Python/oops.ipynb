{
 "cells": [
  {
   "cell_type": "markdown",
   "metadata": {},
   "source": [
    "Employee Management using OOP\n",
    "\n",
    "class is a blueprint of instance i.e. it does not reserves memory but it will reserved if its object is created in a program\n",
    "class variable and instance variable\n"
   ]
  },
  {
   "cell_type": "code",
   "execution_count": null,
   "metadata": {
    "vscode": {
     "languageId": "plaintext"
    }
   },
   "outputs": [],
   "source": []
  }
 ],
 "metadata": {
  "language_info": {
   "name": "python"
  }
 },
 "nbformat": 4,
 "nbformat_minor": 2
}
